{
 "cells": [
  {
   "cell_type": "markdown",
   "id": "51264ffe",
   "metadata": {},
   "source": [
    "# Анализ результатов А/В тестирования. Проверка эффективности нового алгоритма рекомендации постов."
   ]
  },
  {
   "cell_type": "markdown",
   "id": "ff2c71ae",
   "metadata": {},
   "source": [
    "### Входные данные:\n",
    "**Время эксперимента:** с 2024-05-03 по 2024-05-09 включительно  \n",
    "**Группа 1** - контрольная  \n",
    "**Группа 2** - экспериментальная  \n",
    "**Основная гипотеза** - новый алгоритм во группе 2 приведет к увеличению CTR. \n",
    "\n",
    "Считаем, что система сплитования работает корректно, результат А/А теста удовлетворительный.\n",
    "\n",
    "### Задача: проанализиоровать данные A/B теста\n",
    "- Выбрать метод анализа и сравнить CTR в двух группах:\n",
    "    - t-тест, \n",
    "    - тест Манна-Уитни, \n",
    "    - Пуассоновский бутстреп, \n",
    "    - t-тест на сглаженном ctr (α=5), \n",
    "    - t-тест и тест Манна-Уитни поверх бакетного преобразования\n",
    "- Сравнить данные этими тестами. Посмотрить на распределения, понять, почему тесты сработали именно так.\n",
    "- Написать рекомендацию, стоит ли раскатывать новый алгоритм на всех новых пользователей."
   ]
  },
  {
   "cell_type": "markdown",
   "id": "43614cc1",
   "metadata": {},
   "source": [
    "### Шаг 1.  \n",
    "Сформулируем нулевую и альтернативную гипотезы и зафиксируем уровень значимости:\n",
    "- H0: CTR_exp_group_2 = CTR_exp_group_1\n",
    "- H1: CTR_exp_group_2 != CTR_exp_group_1\n",
    "- alpha = 0.05  "
   ]
  },
  {
   "cell_type": "markdown",
   "id": "86405c0c",
   "metadata": {},
   "source": [
    "### Шаг 2.\n",
    "Подключимся к БД, выгрузим в датафрейм пользователей за период проведения А/B теста и рассчитаем ключевую метрику CTR для каждого пользователя."
   ]
  },
  {
   "cell_type": "code",
   "execution_count": 1,
   "id": "b1381e4e",
   "metadata": {},
   "outputs": [],
   "source": [
    "import pandas as pd\n",
    "import pandahouse as ph\n",
    "import seaborn as sns\n",
    "import scipy.stats as stats\n",
    "import numpy as np\n",
    "import os"
   ]
  },
  {
   "cell_type": "code",
   "execution_count": 2,
   "id": "be2c827e",
   "metadata": {},
   "outputs": [],
   "source": [
    "# подключаемся к схеме данных ленты новостей\n",
    "connection = {\n",
    "    'host': os.getenv('HOST'),\n",
    "    'database': os.getenv('DATABASE'),\n",
    "    'user': os.getenv('USER_NAME'),\n",
    "    'password': os.getenv('PASSWORD')\n",
    "}\n",
    "\n",
    "# Рассчитаем CTR для каждого пользователя и сгруппируем по пользователяю и группе\n",
    "q = \"\"\"\n",
    "SELECT exp_group, \n",
    "    user_id,\n",
    "    sum(action = 'like') as likes,\n",
    "    sum(action = 'view') as views,\n",
    "    likes/views as ctr\n",
    "FROM {db}.feed_actions \n",
    "WHERE toDate(time) between '2024-05-03' and '2024-05-09'\n",
    "    and exp_group in (1,2)\n",
    "GROUP BY exp_group, user_id\n",
    "\"\"\"\n",
    "\n",
    "ctr_df = ph.read_clickhouse(q, connection=connection)"
   ]
  },
  {
   "cell_type": "code",
   "execution_count": 3,
   "id": "c545a6b9",
   "metadata": {},
   "outputs": [
    {
     "data": {
      "text/html": [
       "<div>\n",
       "<style scoped>\n",
       "    .dataframe tbody tr th:only-of-type {\n",
       "        vertical-align: middle;\n",
       "    }\n",
       "\n",
       "    .dataframe tbody tr th {\n",
       "        vertical-align: top;\n",
       "    }\n",
       "\n",
       "    .dataframe thead th {\n",
       "        text-align: right;\n",
       "    }\n",
       "</style>\n",
       "<table border=\"1\" class=\"dataframe\">\n",
       "  <thead>\n",
       "    <tr style=\"text-align: right;\">\n",
       "      <th></th>\n",
       "      <th>exp_group</th>\n",
       "      <th>user_id</th>\n",
       "      <th>likes</th>\n",
       "      <th>views</th>\n",
       "      <th>ctr</th>\n",
       "    </tr>\n",
       "  </thead>\n",
       "  <tbody>\n",
       "    <tr>\n",
       "      <th>0</th>\n",
       "      <td>1</td>\n",
       "      <td>109963</td>\n",
       "      <td>3</td>\n",
       "      <td>15</td>\n",
       "      <td>0.200000</td>\n",
       "    </tr>\n",
       "    <tr>\n",
       "      <th>1</th>\n",
       "      <td>1</td>\n",
       "      <td>26117</td>\n",
       "      <td>32</td>\n",
       "      <td>141</td>\n",
       "      <td>0.226950</td>\n",
       "    </tr>\n",
       "    <tr>\n",
       "      <th>2</th>\n",
       "      <td>1</td>\n",
       "      <td>138232</td>\n",
       "      <td>18</td>\n",
       "      <td>73</td>\n",
       "      <td>0.246575</td>\n",
       "    </tr>\n",
       "    <tr>\n",
       "      <th>3</th>\n",
       "      <td>1</td>\n",
       "      <td>26295</td>\n",
       "      <td>39</td>\n",
       "      <td>141</td>\n",
       "      <td>0.276596</td>\n",
       "    </tr>\n",
       "    <tr>\n",
       "      <th>4</th>\n",
       "      <td>1</td>\n",
       "      <td>18392</td>\n",
       "      <td>7</td>\n",
       "      <td>32</td>\n",
       "      <td>0.218750</td>\n",
       "    </tr>\n",
       "  </tbody>\n",
       "</table>\n",
       "</div>"
      ],
      "text/plain": [
       "   exp_group  user_id  likes  views       ctr\n",
       "0          1   109963      3     15  0.200000\n",
       "1          1    26117     32    141  0.226950\n",
       "2          1   138232     18     73  0.246575\n",
       "3          1    26295     39    141  0.276596\n",
       "4          1    18392      7     32  0.218750"
      ]
     },
     "execution_count": 3,
     "metadata": {},
     "output_type": "execute_result"
    }
   ],
   "source": [
    "# Посмотрим, что получилось\n",
    "ctr_df.head()"
   ]
  },
  {
   "cell_type": "code",
   "execution_count": 4,
   "id": "53ab84cb",
   "metadata": {},
   "outputs": [
    {
     "data": {
      "text/html": [
       "<div>\n",
       "<style scoped>\n",
       "    .dataframe tbody tr th:only-of-type {\n",
       "        vertical-align: middle;\n",
       "    }\n",
       "\n",
       "    .dataframe tbody tr th {\n",
       "        vertical-align: top;\n",
       "    }\n",
       "\n",
       "    .dataframe thead th {\n",
       "        text-align: right;\n",
       "    }\n",
       "</style>\n",
       "<table border=\"1\" class=\"dataframe\">\n",
       "  <thead>\n",
       "    <tr style=\"text-align: right;\">\n",
       "      <th></th>\n",
       "      <th>user_id</th>\n",
       "      <th>likes</th>\n",
       "      <th>views</th>\n",
       "      <th>ctr</th>\n",
       "    </tr>\n",
       "    <tr>\n",
       "      <th>exp_group</th>\n",
       "      <th></th>\n",
       "      <th></th>\n",
       "      <th></th>\n",
       "      <th></th>\n",
       "    </tr>\n",
       "  </thead>\n",
       "  <tbody>\n",
       "    <tr>\n",
       "      <th>1</th>\n",
       "      <td>10020</td>\n",
       "      <td>10020</td>\n",
       "      <td>10020</td>\n",
       "      <td>10020</td>\n",
       "    </tr>\n",
       "    <tr>\n",
       "      <th>2</th>\n",
       "      <td>9877</td>\n",
       "      <td>9877</td>\n",
       "      <td>9877</td>\n",
       "      <td>9877</td>\n",
       "    </tr>\n",
       "  </tbody>\n",
       "</table>\n",
       "</div>"
      ],
      "text/plain": [
       "           user_id  likes  views    ctr\n",
       "exp_group                              \n",
       "1            10020  10020  10020  10020\n",
       "2             9877   9877   9877   9877"
      ]
     },
     "execution_count": 4,
     "metadata": {},
     "output_type": "execute_result"
    }
   ],
   "source": [
    "# Проверим кол-во записей в каждой группе\n",
    "ctr_df.groupby('exp_group').count()"
   ]
  },
  {
   "cell_type": "code",
   "execution_count": 5,
   "id": "ff205658",
   "metadata": {},
   "outputs": [
    {
     "data": {
      "image/png": "[encoded data removed]",
      "text/plain": [
       "<Figure size 432x288 with 1 Axes>"
      ]
     },
     "metadata": {
      "needs_background": "light"
     },
     "output_type": "display_data"
    }
   ],
   "source": [
    "# Визуализируем распределение CTR для двух групп\n",
    "sns.set(rc={'figure.figsize':(11.7,8.27)})\n",
    "groups = sns.histplot(data = ctr_df, \n",
    "              x='ctr', \n",
    "              hue='exp_group', \n",
    "              palette = ['r', 'b'],\n",
    "              alpha=0.5,\n",
    "              kde=False)"
   ]
  },
  {
   "cell_type": "markdown",
   "id": "330b2a0f",
   "metadata": {},
   "source": [
    "Видим, что распределение CTR в 1 группе похоже на нормальное, а во 2 группе - нет."
   ]
  },
  {
   "cell_type": "markdown",
   "id": "5ced5882",
   "metadata": {},
   "source": [
    "### Шаг 3. A/B тест"
   ]
  },
  {
   "cell_type": "markdown",
   "id": "2e2a5d70",
   "metadata": {},
   "source": [
    "### 1. t-тест"
   ]
  },
  {
   "cell_type": "code",
   "execution_count": 6,
   "id": "a3c1af71",
   "metadata": {},
   "outputs": [
    {
     "data": {
      "text/plain": [
       "Ttest_indResult(statistic=0.4051491913112757, pvalue=0.685373331140751)"
      ]
     },
     "execution_count": 6,
     "metadata": {},
     "output_type": "execute_result"
    }
   ],
   "source": [
    "stats.ttest_ind(ctr_df[ctr_df.exp_group == 1].ctr,\n",
    "                ctr_df[ctr_df.exp_group == 2].ctr,\n",
    "                equal_var=False)"
   ]
  },
  {
   "cell_type": "code",
   "execution_count": 7,
   "id": "b3783406",
   "metadata": {},
   "outputs": [
    {
     "name": "stdout",
     "output_type": "stream",
     "text": [
      "0.216773994120072 0.2161016893237817\n"
     ]
    }
   ],
   "source": [
    "print(ctr_df[ctr_df.exp_group == 1].ctr.mean(), ctr_df[ctr_df.exp_group == 2].ctr.mean())"
   ]
  },
  {
   "cell_type": "markdown",
   "id": "6399cab4",
   "metadata": {},
   "source": [
    "**Вывод:**  \n",
    "p-value > 0.05, поэтому t-тест не опровергает нулевую гипотезу, т.е средние CTR равны с допустимой погрешностью. "
   ]
  },
  {
   "cell_type": "markdown",
   "id": "e9966cd8",
   "metadata": {},
   "source": [
    "### 2. Манна-Уитни"
   ]
  },
  {
   "cell_type": "code",
   "execution_count": 8,
   "id": "c097e360",
   "metadata": {},
   "outputs": [
    {
     "data": {
      "text/plain": [
       "MannwhitneyuResult(statistic=55189913.0, pvalue=4.632205841806026e-45)"
      ]
     },
     "execution_count": 8,
     "metadata": {},
     "output_type": "execute_result"
    }
   ],
   "source": [
    "stats.mannwhitneyu(ctr_df[ctr_df.exp_group == 1].ctr, \n",
    "                   ctr_df[ctr_df.exp_group == 2].ctr,\n",
    "                   alternative = 'two-sided')"
   ]
  },
  {
   "cell_type": "markdown",
   "id": "d26ec8be",
   "metadata": {},
   "source": [
    "**Вывод:**  \n",
    "p-value < 0.05 и стремится к нулю, значит, тест Манна-Уитни опровергает нулевую гипотезу и видит разницу между CTR в выборках.   "
   ]
  },
  {
   "cell_type": "markdown",
   "id": "80e0a6b7",
   "metadata": {},
   "source": [
    "### 3. t-тест на сглаженном CTR"
   ]
  },
  {
   "cell_type": "code",
   "execution_count": 9,
   "id": "d27dd286",
   "metadata": {},
   "outputs": [],
   "source": [
    "# Определим функцию сглаживания Лапласа\n",
    "def get_smothed_ctr(user_likes, user_views, global_ctr, alpha):\n",
    "    smothed_ctr = (user_likes + alpha * global_ctr) / (user_views + alpha)\n",
    "    return smothed_ctr"
   ]
  },
  {
   "cell_type": "code",
   "execution_count": 10,
   "id": "fef196a7",
   "metadata": {},
   "outputs": [],
   "source": [
    "# Рассчитаем глобальный CTR для каждой группы\n",
    "global_ctr_1 = ctr_df[ctr_df.exp_group == 1].likes.sum()/ctr_df[ctr_df.exp_group == 1].views.sum()\n",
    "global_ctr_2 = ctr_df[ctr_df.exp_group == 2].likes.sum()/ctr_df[ctr_df.exp_group == 2].views.sum()\n",
    "\n",
    "# Копируем данные из датафрейма для группы 1 и 2 по-отдельности\n",
    "group1 = ctr_df[ctr_df.exp_group == 1].copy()\n",
    "group2 = ctr_df[ctr_df.exp_group == 2].copy()"
   ]
  },
  {
   "cell_type": "code",
   "execution_count": 11,
   "id": "5b0cef90",
   "metadata": {},
   "outputs": [
    {
     "data": {
      "text/plain": [
       "<Axes: xlabel='ctr', ylabel='Count'>"
      ]
     },
     "execution_count": 11,
     "metadata": {},
     "output_type": "execute_result"
    },
    {
     "data": {
      "image/png": "[encoded data removed]",
      "text/plain": [
       "<Figure size 432x288 with 1 Axes>"
      ]
     },
     "metadata": {
      "needs_background": "light"
     },
     "output_type": "display_data"
    }
   ],
   "source": [
    "# Визуализируем распределение оригинального CTR \n",
    "sns.histplot(group1.ctr, kde = False)\n",
    "sns.histplot(group2.ctr, kde = False)"
   ]
  },
  {
   "cell_type": "code",
   "execution_count": 12,
   "id": "edf142b1",
   "metadata": {},
   "outputs": [
    {
     "data": {
      "text/plain": [
       "<Axes: xlabel='smothed_ctr', ylabel='Count'>"
      ]
     },
     "execution_count": 12,
     "metadata": {},
     "output_type": "execute_result"
    },
    {
     "data": {
      "image/png": "[encoded data removed]",
      "text/plain": [
       "<Figure size 432x288 with 1 Axes>"
      ]
     },
     "metadata": {
      "needs_background": "light"
     },
     "output_type": "display_data"
    }
   ],
   "source": [
    "# Зададим гиперпараметр а = 5\n",
    "a = 5\n",
    "\n",
    "# Применим сглаживание CTR на группу 1\n",
    "group1['smothed_ctr'] = ctr_df.apply(\n",
    "    lambda x: get_smothed_ctr(x['likes'], x['views'], global_ctr_1, a), axis=1)\n",
    "# Применим сглаживание CTR на группу 2\n",
    "group2['smothed_ctr'] = ctr_df.apply(\n",
    "    lambda x: get_smothed_ctr(x['likes'], x['views'], global_ctr_2, a), axis=1)\n",
    "\n",
    "# Визуализируем распределение сглаженного CTR\n",
    "sns.histplot(group1.smothed_ctr, kde = False)\n",
    "sns.histplot(group2.smothed_ctr, kde = False)"
   ]
  },
  {
   "cell_type": "code",
   "execution_count": 13,
   "id": "775e2803",
   "metadata": {},
   "outputs": [
    {
     "data": {
      "text/plain": [
       "Ttest_indResult(statistic=1.9460491517027683, pvalue=0.05166679015318526)"
      ]
     },
     "execution_count": 13,
     "metadata": {},
     "output_type": "execute_result"
    }
   ],
   "source": [
    "# Применим t-тест \n",
    "stats.ttest_ind(group1.smothed_ctr,\n",
    "                group2.smothed_ctr,\n",
    "                equal_var=False)"
   ]
  },
  {
   "cell_type": "markdown",
   "id": "7f497bae",
   "metadata": {},
   "source": [
    "**Вывод:**  \n",
    "Результат похож на t-тест с оригинальным CTR.\n",
    "p-value > 0.05, значит t-тест не опровергает нулевую гипотезу, сглаженные CTR равны с допустимой погрешностью. "
   ]
  },
  {
   "cell_type": "markdown",
   "id": "dffb2785",
   "metadata": {},
   "source": [
    "### 4. Пуассоновский бутстреп"
   ]
  },
  {
   "cell_type": "code",
   "execution_count": 14,
   "id": "6a33a08a",
   "metadata": {},
   "outputs": [],
   "source": [
    "# Определим функцию бутстреп\n",
    "def bootstrap(likes1, views1, likes2, views2, n_bootstrap=2000):\n",
    "\n",
    "    poisson_bootstraps1 = stats.poisson(1).rvs(\n",
    "        (n_bootstrap, len(likes1))).astype(np.int64)\n",
    "\n",
    "    poisson_bootstraps2 = stats.poisson(1).rvs(\n",
    "            (n_bootstrap, len(likes2))).astype(np.int64)\n",
    "    \n",
    "    globalCTR1 = (poisson_bootstraps1*likes1).sum(axis=1)/(poisson_bootstraps1*views1).sum(axis=1)\n",
    "    \n",
    "    globalCTR2 = (poisson_bootstraps2*likes2).sum(axis=1)/(poisson_bootstraps2*views2).sum(axis=1)\n",
    "\n",
    "    return globalCTR1, globalCTR2"
   ]
  },
  {
   "cell_type": "code",
   "execution_count": 15,
   "id": "40955731",
   "metadata": {},
   "outputs": [
    {
     "data": {
      "text/plain": [
       "<Axes: ylabel='Count'>"
      ]
     },
     "execution_count": 15,
     "metadata": {},
     "output_type": "execute_result"
    },
    {
     "data": {
      "image/png": "[encoded data removed]",
      "text/plain": [
       "<Figure size 432x288 with 1 Axes>"
      ]
     },
     "metadata": {
      "needs_background": "light"
     },
     "output_type": "display_data"
    }
   ],
   "source": [
    "# Запишем просмотры и лайки каждой группы\n",
    "likes1 = ctr_df[ctr_df.exp_group == 1].likes.to_numpy()\n",
    "views1 = ctr_df[ctr_df.exp_group == 1].views.to_numpy()\n",
    "likes2 = ctr_df[ctr_df.exp_group == 2].likes.to_numpy()\n",
    "views2 = ctr_df[ctr_df.exp_group == 2].views.to_numpy()\n",
    "\n",
    "# Применим бутстреп, получим выборки из глобальных CTR 1 и 2 групп\n",
    "ctr1, ctr2 = bootstrap(likes1, views1, likes2, views2)\n",
    "\n",
    "# Визуализируем распределение\n",
    "sns.histplot(ctr1, color='blue') # контроль\n",
    "sns.histplot(ctr2, color='red') # таргет"
   ]
  },
  {
   "cell_type": "code",
   "execution_count": 17,
   "id": "1c605810",
   "metadata": {},
   "outputs": [
    {
     "data": {
      "text/plain": [
       "<Axes: ylabel='Count'>"
      ]
     },
     "execution_count": 17,
     "metadata": {},
     "output_type": "execute_result"
    },
    {
     "data": {
      "image/png": "[encoded data removed]",
      "text/plain": [
       "<Figure size 432x288 with 1 Axes>"
      ]
     },
     "metadata": {
      "needs_background": "light"
     },
     "output_type": "display_data"
    }
   ],
   "source": [
    "# Разница между глобальными CTR (CTR_target - CTR_control)\n",
    "sns.histplot(ctr2-ctr1)"
   ]
  },
  {
   "cell_type": "markdown",
   "id": "be5fcd2d",
   "metadata": {},
   "source": [
    "**Вывод:**  \n",
    "Распределение не пересекает 0. \n",
    "Разница получилась отрицательная - это значит, что в группе 2, где проводился эксперимент, CTR снизился.\n",
    "Нулевая гипотеза не подтвердилась."
   ]
  },
  {
   "cell_type": "markdown",
   "id": "8f2db458",
   "metadata": {},
   "source": [
    "### 5. Бакетное преобразование"
   ]
  },
  {
   "cell_type": "code",
   "execution_count": 18,
   "id": "ecb4dda9",
   "metadata": {},
   "outputs": [],
   "source": [
    "q_bucket = \"\"\"\n",
    "\n",
    "SELECT exp_group, bucket,\n",
    "    sum(likes)/sum(views) as bucket_ctr\n",
    "FROM (SELECT exp_group, \n",
    "        xxHash64(user_id)%50 as bucket,\n",
    "        user_id,\n",
    "        sum(action = 'like') as likes,\n",
    "        sum(action = 'view') as views,\n",
    "        likes/views as ctr\n",
    "    FROM {db}.feed_actions \n",
    "    WHERE toDate(time) between '2024-05-03' and '2024-05-09'\n",
    "        and exp_group in (1,2)\n",
    "    GROUP BY exp_group, bucket, user_id)\n",
    "GROUP BY exp_group, bucket\n",
    "\"\"\"\n",
    "\n",
    "bucket_df = ph.read_clickhouse(q_bucket, connection=connection)"
   ]
  },
  {
   "cell_type": "code",
   "execution_count": 19,
   "id": "1f487ae2",
   "metadata": {},
   "outputs": [
    {
     "data": {
      "text/html": [
       "<div>\n",
       "<style scoped>\n",
       "    .dataframe tbody tr th:only-of-type {\n",
       "        vertical-align: middle;\n",
       "    }\n",
       "\n",
       "    .dataframe tbody tr th {\n",
       "        vertical-align: top;\n",
       "    }\n",
       "\n",
       "    .dataframe thead th {\n",
       "        text-align: right;\n",
       "    }\n",
       "</style>\n",
       "<table border=\"1\" class=\"dataframe\">\n",
       "  <thead>\n",
       "    <tr style=\"text-align: right;\">\n",
       "      <th></th>\n",
       "      <th>exp_group</th>\n",
       "      <th>bucket</th>\n",
       "      <th>bucket_ctr</th>\n",
       "    </tr>\n",
       "  </thead>\n",
       "  <tbody>\n",
       "    <tr>\n",
       "      <th>0</th>\n",
       "      <td>1</td>\n",
       "      <td>0</td>\n",
       "      <td>0.200592</td>\n",
       "    </tr>\n",
       "    <tr>\n",
       "      <th>1</th>\n",
       "      <td>2</td>\n",
       "      <td>0</td>\n",
       "      <td>0.196510</td>\n",
       "    </tr>\n",
       "    <tr>\n",
       "      <th>2</th>\n",
       "      <td>1</td>\n",
       "      <td>1</td>\n",
       "      <td>0.208799</td>\n",
       "    </tr>\n",
       "    <tr>\n",
       "      <th>3</th>\n",
       "      <td>2</td>\n",
       "      <td>1</td>\n",
       "      <td>0.210375</td>\n",
       "    </tr>\n",
       "    <tr>\n",
       "      <th>4</th>\n",
       "      <td>1</td>\n",
       "      <td>2</td>\n",
       "      <td>0.204632</td>\n",
       "    </tr>\n",
       "  </tbody>\n",
       "</table>\n",
       "</div>"
      ],
      "text/plain": [
       "   exp_group  bucket  bucket_ctr\n",
       "0          1       0    0.200592\n",
       "1          2       0    0.196510\n",
       "2          1       1    0.208799\n",
       "3          2       1    0.210375\n",
       "4          1       2    0.204632"
      ]
     },
     "execution_count": 19,
     "metadata": {},
     "output_type": "execute_result"
    }
   ],
   "source": [
    "bucket_df.head()"
   ]
  },
  {
   "cell_type": "code",
   "execution_count": 20,
   "id": "5537a04f",
   "metadata": {},
   "outputs": [
    {
     "data": {
      "text/plain": [
       "<Axes: xlabel='bucket_ctr', ylabel='Count'>"
      ]
     },
     "execution_count": 20,
     "metadata": {},
     "output_type": "execute_result"
    },
    {
     "data": {
      "image/png": "[encoded data removed]",
      "text/plain": [
       "<Figure size 432x288 with 1 Axes>"
      ]
     },
     "metadata": {
      "needs_background": "light"
     },
     "output_type": "display_data"
    }
   ],
   "source": [
    "# Визуализируем бакетные CTR\n",
    "sns.histplot(bucket_df[bucket_df.exp_group == 1].bucket_ctr, color='blue')\n",
    "sns.histplot(bucket_df[bucket_df.exp_group == 2].bucket_ctr, color='red')"
   ]
  },
  {
   "cell_type": "code",
   "execution_count": 21,
   "id": "bd33fd44",
   "metadata": {},
   "outputs": [
    {
     "data": {
      "text/plain": [
       "MannwhitneyuResult(statistic=1997.0, pvalue=2.6576427804010095e-07)"
      ]
     },
     "execution_count": 21,
     "metadata": {},
     "output_type": "execute_result"
    }
   ],
   "source": [
    "# Применим тест Манна-Уитни\n",
    "stats.mannwhitneyu(bucket_df[bucket_df.exp_group == 1].bucket_ctr, \n",
    "                   bucket_df[bucket_df.exp_group == 2].bucket_ctr, \n",
    "                   alternative = 'two-sided')"
   ]
  },
  {
   "cell_type": "code",
   "execution_count": 22,
   "id": "aaa1ee31",
   "metadata": {},
   "outputs": [
    {
     "data": {
      "text/plain": [
       "Ttest_indResult(statistic=5.614819358149381, pvalue=4.592644937473873e-07)"
      ]
     },
     "execution_count": 22,
     "metadata": {},
     "output_type": "execute_result"
    }
   ],
   "source": [
    "# Применим t-тест\n",
    "stats.ttest_ind(bucket_df[bucket_df.exp_group == 1].bucket_ctr, \n",
    "                bucket_df[bucket_df.exp_group == 2].bucket_ctr, \n",
    "                equal_var = False)"
   ]
  },
  {
   "cell_type": "code",
   "execution_count": 23,
   "id": "87f115d5",
   "metadata": {},
   "outputs": [
    {
     "name": "stdout",
     "output_type": "stream",
     "text": [
      "0.20969361570538578 0.2004567038618196\n"
     ]
    }
   ],
   "source": [
    "print(bucket_df[bucket_df.exp_group == 1].bucket_ctr.mean(), bucket_df[bucket_df.exp_group == 2].bucket_ctr.mean())"
   ]
  },
  {
   "cell_type": "markdown",
   "id": "97cbd9c9",
   "metadata": {},
   "source": [
    "**Вывод:**  \n",
    "Оба теста видят отличия в CTR после бакетного преобразования. CTR таргета 2 группы ниже, чем CTR контрольной 1 группы."
   ]
  },
  {
   "cell_type": "markdown",
   "id": "86c35bdd",
   "metadata": {},
   "source": [
    "### Результат:   \n",
    "- t-test и t-test на сглаженном CTR не опровергают нулевую гипотезу и не видят разницу между средним CTR. Скорее всего это ошибка, которая обусловлена неравномерным распределением CTR группы 2.\n",
    "- тест Манна-Уитни, Пуассоновский бетстреп и t-test поверх бакетного преобразования видят разницу в CTR, причем CTR_target < CTR_control. Это значит, что новый алгоритм рекомендаций постов не увеличил лайки относительно просмотров. Не рекомендуется раскатывать новый алгоритм на всех пользователей."
   ]
  },
  {
   "cell_type": "code",
   "execution_count": null,
   "id": "5e622917",
   "metadata": {},
   "outputs": [],
   "source": []
  }
 ],
 "metadata": {
  "kernelspec": {
   "display_name": "Python 3 (ipykernel)",
   "language": "python",
   "name": "python3"
  },
  "language_info": {
   "codemirror_mode": {
    "name": "ipython",
    "version": 3
   },
   "file_extension": ".py",
   "mimetype": "text/x-python",
   "name": "python",
   "nbconvert_exporter": "python",
   "pygments_lexer": "ipython3",
   "version": "3.8.10"
  }
 },
 "nbformat": 4,
 "nbformat_minor": 5
}
